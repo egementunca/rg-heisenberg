{
 "cells": [
  {
   "cell_type": "code",
   "execution_count": 1,
   "id": "e2261113",
   "metadata": {},
   "outputs": [],
   "source": [
    "from rgheisenberg.controller import RGController"
   ]
  },
  {
   "cell_type": "code",
   "execution_count": null,
   "id": "5c81d753",
   "metadata": {},
   "outputs": [],
   "source": [
    "ctrl = RGController(l_prec=21, pool_size=1000, dim=3, n_bm=9, seed=17)\n",
    "\n",
    "ctrl.initialize_pool(J=10, p=0, q=0)\n",
    "\n",
    "ctrl.step_vacancy(J=10.0, g=0.0)\n",
    "\n",
    "ctrl.step()"
   ]
  },
  {
   "cell_type": "code",
   "execution_count": 3,
   "id": "80a3a05a",
   "metadata": {},
   "outputs": [
    {
     "data": {
      "text/plain": [
       "8325.308302997395"
      ]
     },
     "execution_count": 3,
     "metadata": {},
     "output_type": "execute_result"
    }
   ],
   "source": [
    "ctrl.free_energy()"
   ]
  }
 ],
 "metadata": {
  "kernelspec": {
   "display_name": ".venv",
   "language": "python",
   "name": "python3"
  },
  "language_info": {
   "codemirror_mode": {
    "name": "ipython",
    "version": 3
   },
   "file_extension": ".py",
   "mimetype": "text/x-python",
   "name": "python",
   "nbconvert_exporter": "python",
   "pygments_lexer": "ipython3",
   "version": "3.12.10"
  }
 },
 "nbformat": 4,
 "nbformat_minor": 5
}
